{
  "nbformat": 4,
  "nbformat_minor": 0,
  "metadata": {
    "colab": {
      "provenance": []
    },
    "kernelspec": {
      "name": "python3",
      "display_name": "Python 3"
    },
    "language_info": {
      "name": "python"
    }
  },
  "cells": [
    {
      "cell_type": "code",
      "source": [
        "pip install oandapyV20"
      ],
      "metadata": {
        "colab": {
          "base_uri": "https://localhost:8080/"
        },
        "id": "KOTTtK820S4y",
        "outputId": "ccaf051e-162b-4476-ecef-e5785ce139ee"
      },
      "execution_count": 2,
      "outputs": [
        {
          "output_type": "stream",
          "name": "stdout",
          "text": [
            "Looking in indexes: https://pypi.org/simple, https://us-python.pkg.dev/colab-wheels/public/simple/\n",
            "Collecting oandapyV20\n",
            "  Downloading oandapyV20-0.7.2.tar.gz (51 kB)\n",
            "\u001b[2K     \u001b[90m━━━━━━━━━━━━━━━━━━━━━━━━━━━━━━━━━━━━━━━━\u001b[0m \u001b[32m51.6/51.6 KB\u001b[0m \u001b[31m2.8 MB/s\u001b[0m eta \u001b[36m0:00:00\u001b[0m\n",
            "\u001b[?25h  Preparing metadata (setup.py) ... \u001b[?25l\u001b[?25hdone\n",
            "Building wheels for collected packages: oandapyV20\n",
            "  Building wheel for oandapyV20 (setup.py) ... \u001b[?25l\u001b[?25hdone\n",
            "  Created wheel for oandapyV20: filename=oandapyV20-0.7.2-py3-none-any.whl size=70035 sha256=0ff68dbbde2be45f36f84532d32b2c6a5f2d48312b39735699af241bfc878e1c\n",
            "  Stored in directory: /root/.cache/pip/wheels/d2/b6/8e/6fe7d26410a99ddb24ac4358691c5feabf4320d20d8053ca25\n",
            "Successfully built oandapyV20\n",
            "Installing collected packages: oandapyV20\n",
            "Successfully installed oandapyV20-0.7.2\n"
          ]
        }
      ]
    },
    {
      "cell_type": "code",
      "execution_count": 3,
      "metadata": {
        "id": "b82Jj-kp0C3z"
      },
      "outputs": [],
      "source": [
        "import plotly.graph_objects as go\n",
        "from plotly.subplots import make_subplots\n",
        "import pandas as pd\n",
        "import oandapyV20\n",
        "import oandapyV20.endpoints.instruments as instruments"
      ]
    },
    {
      "cell_type": "code",
      "source": [
        "access_token = '***********'\n",
        "client = oandapyV20.API(access_token=access_token)"
      ],
      "metadata": {
        "id": "O79RzbS10a8o"
      },
      "execution_count": 4,
      "outputs": []
    },
    {
      "cell_type": "code",
      "source": [
        "params = {\n",
        "    \"count\": 5,\n",
        "    \"granularity\": \"M5\"}\n",
        "r_data = instruments.InstrumentsCandles(instrument=\"EUR_USD\",\n",
        "                                        params=params)\n",
        "client.request(r_data)\n"
      ],
      "metadata": {
        "colab": {
          "base_uri": "https://localhost:8080/"
        },
        "id": "sROyXzsI0hW_",
        "outputId": "0b6c0fc7-ba21-4bbb-8c2c-4c5fae2bb741"
      },
      "execution_count": 7,
      "outputs": [
        {
          "output_type": "execute_result",
          "data": {
            "text/plain": [
              "{'instrument': 'EUR_USD',\n",
              " 'granularity': 'M5',\n",
              " 'candles': [{'complete': True,\n",
              "   'volume': 453,\n",
              "   'time': '2023-01-19T11:20:00.000000000Z',\n",
              "   'mid': {'o': '1.08278', 'h': '1.08286', 'l': '1.08232', 'c': '1.08250'}},\n",
              "  {'complete': True,\n",
              "   'volume': 451,\n",
              "   'time': '2023-01-19T11:25:00.000000000Z',\n",
              "   'mid': {'o': '1.08250', 'h': '1.08267', 'l': '1.08234', 'c': '1.08248'}},\n",
              "  {'complete': True,\n",
              "   'volume': 608,\n",
              "   'time': '2023-01-19T11:30:00.000000000Z',\n",
              "   'mid': {'o': '1.08247', 'h': '1.08249', 'l': '1.08212', 'c': '1.08228'}},\n",
              "  {'complete': True,\n",
              "   'volume': 505,\n",
              "   'time': '2023-01-19T11:35:00.000000000Z',\n",
              "   'mid': {'o': '1.08227', 'h': '1.08236', 'l': '1.08172', 'c': '1.08216'}},\n",
              "  {'complete': False,\n",
              "   'volume': 238,\n",
              "   'time': '2023-01-19T11:40:00.000000000Z',\n",
              "   'mid': {'o': '1.08216', 'h': '1.08216', 'l': '1.08187', 'c': '1.08198'}}]}"
            ]
          },
          "metadata": {},
          "execution_count": 7
        }
      ]
    },
    {
      "cell_type": "code",
      "source": [
        "data = []\n",
        "for i in r_data.response['candles']:\n",
        "    data.append([i['time'], i['volume'], i['mid']['o'],\n",
        "                 i['mid']['h'], i['mid']['l'], i['mid']['c']])"
      ],
      "metadata": {
        "id": "Rxv_I73t1xMp"
      },
      "execution_count": 8,
      "outputs": []
    },
    {
      "cell_type": "code",
      "source": [
        "df = pd.DataFrame(data)\n",
        "df.columns = ['Time', 'Volume', 'Open', 'High', 'Low', 'Close']\n",
        "print(df)"
      ],
      "metadata": {
        "colab": {
          "base_uri": "https://localhost:8080/"
        },
        "id": "BeRj55vz2CmY",
        "outputId": "c3d5317d-825a-43fe-acb6-b999a19a7675"
      },
      "execution_count": 10,
      "outputs": [
        {
          "output_type": "stream",
          "name": "stdout",
          "text": [
            "                             Time  Volume     Open     High      Low    Close\n",
            "0  2023-01-19T11:20:00.000000000Z     453  1.08278  1.08286  1.08232  1.08250\n",
            "1  2023-01-19T11:25:00.000000000Z     451  1.08250  1.08267  1.08234  1.08248\n",
            "2  2023-01-19T11:30:00.000000000Z     608  1.08247  1.08249  1.08212  1.08228\n",
            "3  2023-01-19T11:35:00.000000000Z     505  1.08227  1.08236  1.08172  1.08216\n",
            "4  2023-01-19T11:40:00.000000000Z     238  1.08216  1.08216  1.08187  1.08198\n"
          ]
        }
      ]
    },
    {
      "cell_type": "markdown",
      "source": [
        "change time format"
      ],
      "metadata": {
        "id": "kjg21I1t2OZw"
      }
    },
    {
      "cell_type": "code",
      "source": [
        "df['Time'] = pd.to_datetime(df['Time'])\n",
        "print(df)"
      ],
      "metadata": {
        "colab": {
          "base_uri": "https://localhost:8080/"
        },
        "id": "91u1Ei2c2LN3",
        "outputId": "5abb9349-9a50-4bcd-cff0-eed2b33cf2ef"
      },
      "execution_count": 12,
      "outputs": [
        {
          "output_type": "stream",
          "name": "stdout",
          "text": [
            "                       Time  Volume     Open     High      Low    Close\n",
            "0 2023-01-19 11:20:00+00:00     453  1.08278  1.08286  1.08232  1.08250\n",
            "1 2023-01-19 11:25:00+00:00     451  1.08250  1.08267  1.08234  1.08248\n",
            "2 2023-01-19 11:30:00+00:00     608  1.08247  1.08249  1.08212  1.08228\n",
            "3 2023-01-19 11:35:00+00:00     505  1.08227  1.08236  1.08172  1.08216\n",
            "4 2023-01-19 11:40:00+00:00     238  1.08216  1.08216  1.08187  1.08198\n"
          ]
        }
      ]
    },
    {
      "cell_type": "markdown",
      "source": [
        "change UTC tiome zone to iran time zone"
      ],
      "metadata": {
        "id": "7mkNVEmQ2f0p"
      }
    },
    {
      "cell_type": "code",
      "source": [
        "df['Time'] = pd.to_datetime(\n",
        "    df['Time']).dt.tz_convert('iran')\n",
        "\n",
        "print(df)"
      ],
      "metadata": {
        "colab": {
          "base_uri": "https://localhost:8080/"
        },
        "id": "68t6nHSa2rJH",
        "outputId": "c3e113ba-6336-4114-9475-74a78e44df4f"
      },
      "execution_count": 13,
      "outputs": [
        {
          "output_type": "stream",
          "name": "stdout",
          "text": [
            "                       Time  Volume     Open     High      Low    Close\n",
            "0 2023-01-19 14:50:00+03:30     453  1.08278  1.08286  1.08232  1.08250\n",
            "1 2023-01-19 14:55:00+03:30     451  1.08250  1.08267  1.08234  1.08248\n",
            "2 2023-01-19 15:00:00+03:30     608  1.08247  1.08249  1.08212  1.08228\n",
            "3 2023-01-19 15:05:00+03:30     505  1.08227  1.08236  1.08172  1.08216\n",
            "4 2023-01-19 15:10:00+03:30     238  1.08216  1.08216  1.08187  1.08198\n"
          ]
        }
      ]
    },
    {
      "cell_type": "markdown",
      "source": [
        "remove seconds  . change time to str "
      ],
      "metadata": {
        "id": "rtkhswnA27_8"
      }
    },
    {
      "cell_type": "code",
      "source": [
        "df['Time'] = df['Time'].dt.strftime(\"%Y-%m-%d:%H:%M\")\n",
        "\n",
        "print(df)\n"
      ],
      "metadata": {
        "colab": {
          "base_uri": "https://localhost:8080/"
        },
        "id": "Sdn4KZlL2xQw",
        "outputId": "8b8acf1e-e278-42a6-d7b8-2aef2bba4159"
      },
      "execution_count": 14,
      "outputs": [
        {
          "output_type": "stream",
          "name": "stdout",
          "text": [
            "               Time  Volume     Open     High      Low    Close\n",
            "0  2023-01-19:14:50     453  1.08278  1.08286  1.08232  1.08250\n",
            "1  2023-01-19:14:55     451  1.08250  1.08267  1.08234  1.08248\n",
            "2  2023-01-19:15:00     608  1.08247  1.08249  1.08212  1.08228\n",
            "3  2023-01-19:15:05     505  1.08227  1.08236  1.08172  1.08216\n",
            "4  2023-01-19:15:10     238  1.08216  1.08216  1.08187  1.08198\n"
          ]
        }
      ]
    },
    {
      "cell_type": "code",
      "source": [],
      "metadata": {
        "id": "GXao6Smm3oPQ"
      },
      "execution_count": null,
      "outputs": []
    }
  ]
}
